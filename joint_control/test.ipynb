{
 "cells": [
  {
   "cell_type": "code",
   "execution_count": 39,
   "metadata": {},
   "outputs": [],
   "source": [
    "from keyframes import hello\n",
    "import matplotlib.pyplot as plt\n",
    "import numpy as np\n",
    "from scipy import interpolate\n",
    "import numpy.linalg as lg"
   ]
  },
  {
   "cell_type": "code",
   "execution_count": 48,
   "metadata": {},
   "outputs": [
    {
     "data": {
      "text/plain": [
       "[<matplotlib.lines.Line2D at 0x7f424c079df0>]"
      ]
     },
     "execution_count": 48,
     "metadata": {},
     "output_type": "execute_result"
    },
    {
     "data": {
      "image/png": "[encoded data removed]",
      "text/plain": [
       "<Figure size 432x288 with 1 Axes>"
      ]
     },
     "metadata": {
      "needs_background": "light"
     },
     "output_type": "display_data"
    }
   ],
   "source": [
    "def interpolate_o(x, y):\n",
    "    n = x.shape[0]\n",
    "\n",
    "    X = np.zeros((4 * n - 4, 4 * n - 4))\n",
    "    Y = np.zeros(4 * n - 4)\n",
    "\n",
    "    for i in range(n - 1):\n",
    "        x_s = x[i]\n",
    "        x_e = x[i+1]\n",
    "\n",
    "        # Wert Bedingung\n",
    "        X[4*i, 4*i:4*(i+1)]     = np.array([1, x_s, x_s ** 2, x_s ** 3])\n",
    "        X[4*i + 1, 4*i:4*(i+1)] = np.array([1, x_e, x_e ** 2, x_e ** 3])\n",
    "\n",
    "        Y[4*i] = y[i]\n",
    "        Y[4*i + 1] = y[i+1]\n",
    "\n",
    "        if i != n - 2:\n",
    "            # Steigung und Kurven Bedingung\n",
    "            X[4*i + 2, 4*i:4*(i+1)] = np.array([0, 1, 2 * x_e, 3 * x_e ** 2])\n",
    "            X[4*i + 3, 4*i:4*(i+1)] = np.array([0, 0, 2, 6 * x_e])\n",
    "\n",
    "            # Steigung und Kurven Bedingung an nächsten Abschnitt\n",
    "            X[4*i + 2, 4*(i+1):4*(i+2)] = np.array([0, -1, -2 * x_e, -3 * x_e ** 2])\n",
    "            X[4*i + 3, 4*(i+1):4*(i+2)] = np.array([0, 0, -2, -6 * x_e])\n",
    "    \n",
    "    X[4*i + 2, 0:4] = np.array([0, 0, 2, 6 * x[0]])\n",
    "    X[4*i + 3, -4:] = np.array([0, 0, 2, 6 * x[-1]])\n",
    "\n",
    "    coeffs = lg.solve(X, Y)\n",
    "\n",
    "    def fun(x_value):\n",
    "        for i in range(n - 1):\n",
    "            if x[i] <= x_value <= x[i+1]:\n",
    "                s_i = 4 * i\n",
    "                return coeffs[s_i] + coeffs[s_i + 1] * x_value + coeffs[s_i + 2] * x_value**2 + coeffs[s_i + 3] * x_value**3\n",
    "    \n",
    "    return fun\n",
    "\n",
    "names, times, values = hello()\n",
    "\n",
    "j_idx = 0\n",
    "x_data = np.concatenate([[0], times[j_idx]]) # Get Time\n",
    "y_data = np.concatenate([[0], list(map(lambda x: x[0], values[j_idx]))]) # Get Radiant\n",
    "\n",
    "# x = np.arange(1, 5)\n",
    "# y = np.arange(1, 5)\n",
    "\n",
    "fun = interpolate_o(x_data, y_data)\n",
    "\n",
    "plt.plot(x_data, y_data, \"o\")\n",
    "\n",
    "ticks = np.arange(0, max(x_data), 0.1)\n",
    "y_new = []\n",
    "for i in ticks:\n",
    "    y_new.append(fun(i))\n",
    "\n",
    "plt.plot(ticks, y_new)\n",
    "\n",
    "f = interpolate.interp1d(x_data, y_data, \"cubic\")\n",
    "plt.plot(ticks, f(ticks))\n"
   ]
  },
  {
   "cell_type": "code",
   "execution_count": 1,
   "metadata": {},
   "outputs": [
    {
     "ename": "NameError",
     "evalue": "name 'hello' is not defined",
     "output_type": "error",
     "traceback": [
      "\u001b[0;31m---------------------------------------------------------------------------\u001b[0m",
      "\u001b[0;31mNameError\u001b[0m                                 Traceback (most recent call last)",
      "\u001b[0;32m<ipython-input-1-003e03f450ba>\u001b[0m in \u001b[0;36m<module>\u001b[0;34m\u001b[0m\n\u001b[0;32m----> 1\u001b[0;31m \u001b[0mnames\u001b[0m\u001b[0;34m,\u001b[0m \u001b[0mtimes\u001b[0m\u001b[0;34m,\u001b[0m \u001b[0mvalues\u001b[0m \u001b[0;34m=\u001b[0m \u001b[0mhello\u001b[0m\u001b[0;34m(\u001b[0m\u001b[0;34m)\u001b[0m\u001b[0;34m\u001b[0m\u001b[0;34m\u001b[0m\u001b[0m\n\u001b[0m\u001b[1;32m      2\u001b[0m \u001b[0;34m\u001b[0m\u001b[0m\n\u001b[1;32m      3\u001b[0m \u001b[0;31m# TODO Choose nearest frames\u001b[0m\u001b[0;34m\u001b[0m\u001b[0;34m\u001b[0m\u001b[0;34m\u001b[0m\u001b[0m\n\u001b[1;32m      4\u001b[0m \u001b[0;34m\u001b[0m\u001b[0m\n\u001b[1;32m      5\u001b[0m \u001b[0;32mfor\u001b[0m \u001b[0mj_idx\u001b[0m\u001b[0;34m,\u001b[0m \u001b[0mjoint\u001b[0m \u001b[0;32min\u001b[0m \u001b[0menumerate\u001b[0m\u001b[0;34m(\u001b[0m\u001b[0mnames\u001b[0m\u001b[0;34m)\u001b[0m\u001b[0;34m:\u001b[0m\u001b[0;34m\u001b[0m\u001b[0;34m\u001b[0m\u001b[0m\n",
      "\u001b[0;31mNameError\u001b[0m: name 'hello' is not defined"
     ]
    }
   ],
   "source": [
    "names, times, values = hello()\n",
    "\n",
    "# TODO Choose nearest frames\n",
    "\n",
    "for j_idx, joint in enumerate(names):\n",
    "    j_times = np.concatenate([[0], times[j_idx]]) # Get Time\n",
    "    j_values = np.concatenate([[0], list(map(lambda x: x[0], values[j_idx]))]) # Get Radiant\n",
    "    # j_times = times[j_idx] # Get Time\n",
    "    # j_values = list(map(lambda x: x[0], values[j_idx])) # Get Radiant\n",
    "\n",
    "    print(j_times)\n",
    "    print(j_values)\n",
    "\n",
    "    plt.plot(j_times, j_values, \"o\")\n",
    "\n",
    "    tck = interpolate.splrep(j_times, j_values)\n",
    "\n",
    "    x = np.arange(0, j_times[-1], 0.1)\n",
    "    # plt.plot(j_times, j_values, \"o\")\n",
    "    # plt.plot(x, interpolate.splev(x, tck))\n",
    "    interpolate.splev(x, tck)"
   ]
  }
 ],
 "metadata": {
  "interpreter": {
   "hash": "55983fb84f6e59716d1b915c21554dd223e7219f13cfb18971fe1502d0d0d902"
  },
  "kernelspec": {
   "display_name": "Python ('robots')",
   "language": "python",
   "name": "python3"
  },
  "language_info": {
   "codemirror_mode": {
    "name": "ipython",
    "version": 3
   },
   "file_extension": ".py",
   "mimetype": "text/x-python",
   "name": "python",
   "nbconvert_exporter": "python",
   "pygments_lexer": "ipython3",
   "version": ""
  },
  "orig_nbformat": 4
 },
 "nbformat": 4,
 "nbformat_minor": 2
}
